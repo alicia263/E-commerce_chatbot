{
 "cells": [
  {
   "cell_type": "markdown",
   "id": "992a662d-0df3-4164-a901-7ff7285453c6",
   "metadata": {},
   "source": [
    "### Imports"
   ]
  },
  {
   "cell_type": "code",
   "execution_count": 1,
   "id": "d2d7cddc-9221-4870-99bc-5be83d9ae116",
   "metadata": {},
   "outputs": [
    {
     "name": "stderr",
     "output_type": "stream",
     "text": [
      "/workspaces/E-commerce_chatbot/venv/lib/python3.12/site-packages/tqdm/auto.py:21: TqdmWarning: IProgress not found. Please update jupyter and ipywidgets. See https://ipywidgets.readthedocs.io/en/stable/user_install.html\n",
      "  from .autonotebook import tqdm as notebook_tqdm\n"
     ]
    }
   ],
   "source": [
    "import pandas as pd\n",
    "import json    \n",
    "from tqdm.auto import tqdm"
   ]
  },
  {
   "cell_type": "code",
   "execution_count": 2,
   "id": "c1e0c1d3-aca3-469b-92e1-e190bb0c790c",
   "metadata": {},
   "outputs": [
    {
     "name": "stdout",
     "output_type": "stream",
     "text": [
      "Requirement already satisfied: groq in /workspaces/E-commerce_chatbot/venv/lib/python3.12/site-packages (0.11.0)\n",
      "Requirement already satisfied: anyio<5,>=3.5.0 in /workspaces/E-commerce_chatbot/venv/lib/python3.12/site-packages (from groq) (4.6.2.post1)\n",
      "Requirement already satisfied: distro<2,>=1.7.0 in /workspaces/E-commerce_chatbot/venv/lib/python3.12/site-packages (from groq) (1.9.0)\n",
      "Requirement already satisfied: httpx<1,>=0.23.0 in /workspaces/E-commerce_chatbot/venv/lib/python3.12/site-packages (from groq) (0.27.2)\n",
      "Requirement already satisfied: pydantic<3,>=1.9.0 in /workspaces/E-commerce_chatbot/venv/lib/python3.12/site-packages (from groq) (2.9.2)\n",
      "Requirement already satisfied: sniffio in /workspaces/E-commerce_chatbot/venv/lib/python3.12/site-packages (from groq) (1.3.1)\n",
      "Requirement already satisfied: typing-extensions<5,>=4.7 in /workspaces/E-commerce_chatbot/venv/lib/python3.12/site-packages (from groq) (4.12.2)\n",
      "Requirement already satisfied: idna>=2.8 in /workspaces/E-commerce_chatbot/venv/lib/python3.12/site-packages (from anyio<5,>=3.5.0->groq) (3.10)\n",
      "Requirement already satisfied: certifi in /workspaces/E-commerce_chatbot/venv/lib/python3.12/site-packages (from httpx<1,>=0.23.0->groq) (2024.8.30)\n",
      "Requirement already satisfied: httpcore==1.* in /workspaces/E-commerce_chatbot/venv/lib/python3.12/site-packages (from httpx<1,>=0.23.0->groq) (1.0.6)\n",
      "Requirement already satisfied: h11<0.15,>=0.13 in /workspaces/E-commerce_chatbot/venv/lib/python3.12/site-packages (from httpcore==1.*->httpx<1,>=0.23.0->groq) (0.14.0)\n",
      "Requirement already satisfied: annotated-types>=0.6.0 in /workspaces/E-commerce_chatbot/venv/lib/python3.12/site-packages (from pydantic<3,>=1.9.0->groq) (0.7.0)\n",
      "Requirement already satisfied: pydantic-core==2.23.4 in /workspaces/E-commerce_chatbot/venv/lib/python3.12/site-packages (from pydantic<3,>=1.9.0->groq) (2.23.4)\n",
      "\n",
      "\u001b[1m[\u001b[0m\u001b[34;49mnotice\u001b[0m\u001b[1;39;49m]\u001b[0m\u001b[39;49m A new release of pip is available: \u001b[0m\u001b[31;49m23.2.1\u001b[0m\u001b[39;49m -> \u001b[0m\u001b[32;49m24.2\u001b[0m\n",
      "\u001b[1m[\u001b[0m\u001b[34;49mnotice\u001b[0m\u001b[1;39;49m]\u001b[0m\u001b[39;49m To update, run: \u001b[0m\u001b[32;49mpip install --upgrade pip\u001b[0m\n"
     ]
    }
   ],
   "source": [
    "!pip install groq\n",
    "import os\n",
    "os.environ[\"GROQ_API_KEY\"] = \"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\"\n",
    "from groq import Groq"
   ]
  },
  {
   "cell_type": "markdown",
   "id": "7291b466-c17e-41e8-8392-02beb07d038a",
   "metadata": {},
   "source": [
    "###  Loading  the Data"
   ]
  },
  {
   "cell_type": "code",
   "execution_count": 3,
   "id": "58a12e0d-9a84-4558-b463-d25558e45c3e",
   "metadata": {},
   "outputs": [],
   "source": [
    "json_file = '../data/products_data.json'\n",
    "with open(json_file, 'r') as file:\n",
    "    documents_raw = json.load(file)"
   ]
  },
  {
   "cell_type": "code",
   "execution_count": 4,
   "id": "b299d08b-bab2-48df-bd5c-4d992896b503",
   "metadata": {},
   "outputs": [],
   "source": [
    "json_file = '../data/products_data.json'"
   ]
  },
  {
   "cell_type": "code",
   "execution_count": 5,
   "id": "b8510ea9-a53f-4456-b176-600a2e59ab7a",
   "metadata": {},
   "outputs": [
    {
     "name": "stdout",
     "output_type": "stream",
     "text": [
      "Loaded product details from '../data/products_data.json' with 9895 entries.\n"
     ]
    }
   ],
   "source": [
    "# Initialize an empty list to store processed product details\n",
    "product_details = []\n",
    "\n",
    "# Iterate through each product in the loaded JSON data\n",
    "for product in documents_raw:\n",
    "    product_id = product['ID']  # Assuming 'ID' exists in your JSON data\n",
    "\n",
    "    # Append the product details to the list, adding an 'ID' field\n",
    "    product_details.append({\n",
    "        'ID': product_id,\n",
    "        'Product_Name': product['Product_Name'],\n",
    "        'Price': product['Price'],\n",
    "        'Product_Url': product['Product_Url'],\n",
    "        'About_Product': product['About_Product'],\n",
    "        'Product_Specification': product['Product_Specification'],\n",
    "        'Technical_Details': product['Technical_Details'],\n",
    "        'Shipping_Weight': product['Shipping_Weight'],\n",
    "        'Product_Dimensions': product['Product_Dimensions'],\n",
    "        'Image': product['Image'],\n",
    "        'Variants': product['Variants'],\n",
    "        'Color': product['Color'],\n",
    "        'Product_Description': product['Product_Description'],\n",
    "        'Category': product['Category']\n",
    "    })\n",
    "\n",
    "# Print the results\n",
    "print(f\"Loaded product details from '{json_file}' with {len(product_details)} entries.\")\n"
   ]
  },
  {
   "cell_type": "code",
   "execution_count": 6,
   "id": "6894c2b3-55eb-4116-bf01-f8152b961d57",
   "metadata": {},
   "outputs": [
    {
     "data": {
      "text/plain": [
       "{'ID': '18018b6bc416dab347b1b7db79994afa',\n",
       " 'Product_Name': 'Guillow Airplane Design Studio with Travel Case Building Kit',\n",
       " 'Price': '$28.91',\n",
       " 'Product_Url': 'https://www.amazon.com/Guillow-Airplane-Design-Studio-Building/dp/B076Y2SNHM',\n",
       " 'About_Product': \"Make 8 different Planes at one time. | Experiment with different designs and learn about flight. | All contained in Part trays inside an attractive box with carry handle! | Guillow's - your one source for flying toys since 1926. | Made in the USA.\",\n",
       " 'Product_Specification': 'ProductDimensions:3.5x6.2x13inches|ItemWeight:13.4ounces|ShippingWeight:13.4ounces(Viewshippingratesandpolicies)|DomesticShipping:ItemcanbeshippedwithinU.S.|InternationalShipping:ThisitemcanbeshippedtoselectcountriesoutsideoftheU.S.LearnMore|ASIN:B076Y2SNHM|Itemmodelnumber:142|Manufacturerrecommendedage:8yearsandup',\n",
       " 'Technical_Details': 'Go to your orders and start the return Select the ship method Ship it! | Go to your orders and start the return Select the ship method Ship it! | 13.4 ounces (View shipping rates and policies) | show up to 2 reviews by default Kit contains parts to let your imagination soar and build flying planes! comes with over 35 parts (balsa wood wings, tails & bodies, plastic propellers and landing gear, rubber motors, etc) to let you build your own unique flying toy designs. Simple to build, easy to fly and hours of fun!',\n",
       " 'Shipping_Weight': '13.4 ounces',\n",
       " 'Product_Dimensions': None,\n",
       " 'Image': 'https://images-na.ssl-images-amazon.com/images/I/516UijZMilL.jpg|https://images-na.ssl-images-amazon.com/images/I/51J6y3oM6VL.jpg|https://images-na.ssl-images-amazon.com/images/G/01/x-locale/common/transparent-pixel.jpg',\n",
       " 'Variants': None,\n",
       " 'Color': None,\n",
       " 'Product_Description': None,\n",
       " 'Category': 'Toys & Games | Hobbies | Models & Model Kits | Model Kits | Airplane & Jet Kits'}"
      ]
     },
     "execution_count": 6,
     "metadata": {},
     "output_type": "execute_result"
    }
   ],
   "source": [
    "product_details[3]"
   ]
  },
  {
   "cell_type": "markdown",
   "id": "7ea7ec0e-be76-49dd-9dc3-e766f69265af",
   "metadata": {},
   "source": [
    "### Creating Ground Truth Dataset"
   ]
  },
  {
   "cell_type": "code",
   "execution_count": 7,
   "id": "3581ad35-ca58-4f6b-a9c5-5e052fd8bded",
   "metadata": {},
   "outputs": [],
   "source": [
    "prompt_template = \"\"\"\n",
    "You emulate a customer who's interested in buying a product from our online shop. \n",
    "Formulate 5 questions this customer might ask based on the product's information. \n",
    "The record should contain the answer to the questions, and the questions should be complete and not too short. \n",
    "If possible, use as few words as possible from the record. Focus on rephrasing the information naturally.\n",
    "\n",
    "The product record:\n",
    "\n",
    "ID: {ID}\n",
    "Product Name: {Product_Name}\n",
    "Price: {Price}\n",
    "Product URL: {Product_Url}\n",
    "About Product: {About_Product}\n",
    "Product Specification: {Product_Specification}\n",
    "Technical Details: {Technical_Details}\n",
    "Shipping Weight: {Shipping_Weight}\n",
    "Product Dimensions: {Product_Dimensions}\n",
    "Image: {Image}\n",
    "Variants: {Variants}\n",
    "Color: {Color}\n",
    "Product Description: {Product_Description}\n",
    "Category: {Category}\n",
    "\n",
    "Provide the output in parsable JSON without using code blocks:\n",
    "\n",
    "[\"question1\", \"question2\", ..., \"question5\"]\n",
    "\"\"\".strip()"
   ]
  },
  {
   "cell_type": "code",
   "execution_count": 8,
   "id": "9c1500f4-fc46-4ba4-a936-36e930ff83aa",
   "metadata": {},
   "outputs": [],
   "source": [
    "prompt = prompt_template.format(**product)"
   ]
  },
  {
   "cell_type": "code",
   "execution_count": 9,
   "id": "0be9b6e8-3975-4a66-b04d-291a8ba46944",
   "metadata": {},
   "outputs": [],
   "source": [
    "product =product_details[6]"
   ]
  },
  {
   "cell_type": "code",
   "execution_count": 10,
   "id": "df48fc54-c256-4617-a79d-b3cfb467edcf",
   "metadata": {},
   "outputs": [
    {
     "data": {
      "text/plain": [
       "{'ID': '40d3cd16b41970ae6872e914aecf2c8e',\n",
       " 'Product_Name': \"Rubie's Child's Pokemon Deluxe Pikachu Costume, X-Small\",\n",
       " 'Price': '$29.12',\n",
       " 'Product_Url': 'https://www.amazon.com/Rubies-Deluxe-Pikachu-Pokemon-Costume/dp/B07BZJM592',\n",
       " 'About_Product': \"Make sure this fits by entering your model number. | Polyester | Deluxe Pokemon child's Pikachu costume features a fleece jumpsuit with attached tail and headpiece with attached ears and printed face | Officially licensed Pokemon costume, look for trademark on packaging and label to help assure you've received authentic safety-tested item | Important: Costumes are sized differently than apparel, use the Rubie's Child Size Chart, do not choose based on child's age or clothing size | Group costume fun: coordinate with additional Pokemon costumes and accessories available from Rubie's | Family-owned, family-focused, and based in the U.S.A. Since 1951, Rubie's has classic and licensed costumes and accessories in sizes and styles for your entire family\",\n",
       " 'Product_Specification': 'ProductDimensions:16x8x1inches|ItemWeight:1pounds|ShippingWeight:9.8ounces(Viewshippingratesandpolicies)|ASIN:B07BZJM592|Itemmodelnumber:B07BZJM592|Manufacturerrecommendedage:12month-2years',\n",
       " 'Technical_Details': \"Go to your orders and start the return Select the ship method Ship it! | Go to your orders and start the return Select the ship method Ship it! | Size:Toddler Transform into the popular and cute mouse-like Pokemon while on the hunt. Officially licensed deluxe Pokemon child's Pikachu costume Featuring a fleece jumpsuit with attached tail and headpiece with attached ears and printed face. Costumes are sized differently than apparel, use the Rubies child's size chart, do not choose based on child's age or clothing size. Pair with other Rubie's Officially Licensed Pokemon costumes for group or family fun! Look for Pikachu, Ash, Misty, Brock, Dawn, clemont, Serena, cilan, may, Squirtle, Charizard, and many more! Rubie's brings fun and fantasy to dress-up with the broadest selection of costumes and accessories, offering everything from full mascot suits to masks and wigs, from deluxe licensed costumes to simple starter pieces, from costume shoes to character make-up, and so much more. Family-owned, family-focused, and based in new York since 1951, you can look to Rubie's for every costume occasion and season: Halloween, Christmas, Mardi Gras, Easter, and all in-between. | 9.8 ounces (View shipping rates and policies)\",\n",
       " 'Shipping_Weight': '9.8 ounces',\n",
       " 'Product_Dimensions': None,\n",
       " 'Image': 'https://images-na.ssl-images-amazon.com/images/I/311yBLR6GiL.jpg|https://images-na.ssl-images-amazon.com/images/G/01/x-locale/common/transparent-pixel.jpg',\n",
       " 'Variants': 'https://www.amazon.com/Rubies-Deluxe-Pikachu-Pokemon-Costume/dp/B07BZJM592|https://www.amazon.com/Rubies-Deluxe-Pikachu-Pokemon-Costume/dp/B004XV389W|https://www.amazon.com/Rubies-Deluxe-Pikachu-Pokemon-Costume/dp/B004XV382E|https://www.amazon.com/Rubies-Deluxe-Pikachu-Pokemon-Costume/dp/B004XV37WA|https://www.amazon.com/Rubies-Deluxe-Pikachu-Pokemon-Costume/dp/B07BZKQ81J',\n",
       " 'Color': None,\n",
       " 'Product_Description': None,\n",
       " 'Category': 'Clothing, Shoes & Jewelry | Costumes & Accessories | Kids & Baby | Girls | Costumes'}"
      ]
     },
     "execution_count": 10,
     "metadata": {},
     "output_type": "execute_result"
    }
   ],
   "source": [
    "product"
   ]
  },
  {
   "cell_type": "code",
   "execution_count": 11,
   "id": "e9611897-df7b-424f-b1d5-54d677247409",
   "metadata": {},
   "outputs": [
    {
     "data": {
      "text/plain": [
       "'[\"Can the Hasegawa Lucano Step Ladder be folded and stood on its own for easy storage?\", \\n\"How much weight can the Hasegawa Lucano Step Ladder safely hold?\", \\n\"What is the primary material used to make the Hasegawa Lucano Step Ladder?\", \\n\"Are there any features on the steps of the Hasegawa Lucano Step Ladder to prevent slipping?\", \\n\"What are the dimensions of the Hasegawa Lucano Step Ladder when it is open and in use?\"]'"
      ]
     },
     "execution_count": 11,
     "metadata": {},
     "output_type": "execute_result"
    }
   ],
   "source": [
    "client = Groq()\n",
    "response = client.chat.completions.create(\n",
    "        model=\"llama-3.1-70b-versatile\",\n",
    "        messages=[{\"role\": \"user\", \"content\": prompt}]\n",
    "    )\n",
    "    \n",
    "json_response = response.choices[0].message.content\n",
    "json_response"
   ]
  },
  {
   "cell_type": "code",
   "execution_count": 12,
   "id": "3e7d17c2-03e0-45cc-ab9a-ef8ac9b95f66",
   "metadata": {},
   "outputs": [],
   "source": [
    "import hashlib\n",
    "from tqdm.auto import tqdm\n",
    "import pandas as pd\n",
    "import os\n",
    "from groq import Groq\n",
    "\n",
    "# Function to generate questions using Groq\n",
    "def generate_questions(product):\n",
    "    prompt = prompt_template.format(**product)\n",
    "    \n",
    "    client = Groq()\n",
    "    response = client.chat.completions.create(\n",
    "        model=\"mixtral-8x7b-32768\",   \n",
    "        messages=[{\"role\": \"user\", \"content\": prompt}]\n",
    "    )\n",
    "    \n",
    "    json_response = response.choices[0].message.content\n",
    "    return json_response"
   ]
  },
  {
   "cell_type": "code",
   "execution_count": null,
   "id": "fea4e13b-0695-47ab-b374-af2be03e66a4",
   "metadata": {},
   "outputs": [
    {
     "name": "stderr",
     "output_type": "stream",
     "text": [
      "  0%|▍                                                                                               | 49/9895 [09:29<32:35:14, 11.91s/it]"
     ]
    }
   ],
   "source": [
    "results = {}\n",
    "for product in tqdm(product_details): \n",
    "    product_id = product['ID']\n",
    "    if product_id in results:\n",
    "        continue\n",
    "\n",
    "    questions = generate_questions(product)\n",
    "    results[product_id] = questions"
   ]
  },
  {
   "cell_type": "code",
   "execution_count": null,
   "id": "5d1376f3-c61e-4f1f-940e-86c25b466a28",
   "metadata": {},
   "outputs": [],
   "source": []
  },
  {
   "cell_type": "code",
   "execution_count": null,
   "id": "95d7ede5-742d-4410-b99e-07e604430979",
   "metadata": {},
   "outputs": [],
   "source": []
  },
  {
   "cell_type": "code",
   "execution_count": null,
   "id": "e8fa7ba2-87c6-4bf5-b0fe-6eca4b144d43",
   "metadata": {},
   "outputs": [],
   "source": []
  }
 ],
 "metadata": {
  "kernelspec": {
   "display_name": "Python 3 (ipykernel)",
   "language": "python",
   "name": "python3"
  },
  "language_info": {
   "codemirror_mode": {
    "name": "ipython",
    "version": 3
   },
   "file_extension": ".py",
   "mimetype": "text/x-python",
   "name": "python",
   "nbconvert_exporter": "python",
   "pygments_lexer": "ipython3",
   "version": "3.12.1"
  }
 },
 "nbformat": 4,
 "nbformat_minor": 5
}
